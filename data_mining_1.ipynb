{
  "nbformat": 4,
  "nbformat_minor": 0,
  "metadata": {
    "colab": {
      "provenance": []
    },
    "kernelspec": {
      "name": "python3",
      "display_name": "Python 3"
    },
    "language_info": {
      "name": "python"
    }
  },
  "cells": [
    {
      "cell_type": "code",
      "execution_count": 1,
      "metadata": {
        "id": "FU4N6l5s5QdD"
      },
      "outputs": [],
      "source": [
        "import numpy as np\n",
        "import matplotlib.pyplot as plt\n",
        "import pandas as pd\n"
      ]
    },
    {
      "cell_type": "code",
      "source": [
        "dataset = pd.read_csv('Data.csv', delimiter=';')\n",
        "x = dataset.iloc [:, :-1] . values\n",
        "y= dataset.iloc [:, -1] .values\n"
      ],
      "metadata": {
        "id": "ILGxDky05R1n"
      },
      "execution_count": 2,
      "outputs": []
    },
    {
      "cell_type": "code",
      "source": [
        "print (dataset)"
      ],
      "metadata": {
        "id": "yVAENaXg-5El",
        "outputId": "6a0e47da-9f5e-4e6b-ddf1-963e60123832",
        "colab": {
          "base_uri": "https://localhost:8080/"
        }
      },
      "execution_count": 3,
      "outputs": [
        {
          "output_type": "stream",
          "name": "stdout",
          "text": [
            "   Country DEAD   Age   Salary Purchased\n",
            "0   France  YES  44.0  72000.0        No\n",
            "1    Spain   NO  27.0  48000.0       Yes\n",
            "2  Germany   NO  30.0  54000.0        No\n",
            "3    Spain   NO  38.0  61000.0        No\n",
            "4  Germany  YES  40.0      NaN       Yes\n",
            "5   France   NO  35.0  58000.0       Yes\n",
            "6    Spain   NO   NaN  52000.0        No\n",
            "7   France  YES  48.0  79000.0       Yes\n",
            "8  Germany  YES  50.0  83000.0        No\n",
            "9   France   NO  37.0  67000.0       Yes\n"
          ]
        }
      ]
    },
    {
      "cell_type": "code",
      "source": [
        "print(x)"
      ],
      "metadata": {
        "colab": {
          "base_uri": "https://localhost:8080/"
        },
        "id": "gti5GmIj7tpF",
        "outputId": "278d30da-36b0-4fa2-eed3-8a8d8b7cb9ca"
      },
      "execution_count": 4,
      "outputs": [
        {
          "output_type": "stream",
          "name": "stdout",
          "text": [
            "[['France' 'YES' 44.0 72000.0]\n",
            " ['Spain' 'NO' 27.0 48000.0]\n",
            " ['Germany' 'NO' 30.0 54000.0]\n",
            " ['Spain' 'NO' 38.0 61000.0]\n",
            " ['Germany' 'YES' 40.0 nan]\n",
            " ['France' 'NO' 35.0 58000.0]\n",
            " ['Spain' 'NO' nan 52000.0]\n",
            " ['France' 'YES' 48.0 79000.0]\n",
            " ['Germany' 'YES' 50.0 83000.0]\n",
            " ['France' 'NO' 37.0 67000.0]]\n"
          ]
        }
      ]
    },
    {
      "cell_type": "code",
      "source": [
        "print (y)"
      ],
      "metadata": {
        "colab": {
          "base_uri": "https://localhost:8080/"
        },
        "id": "cfoQrgcz-1sT",
        "outputId": "7c5a677e-b98e-4edd-fa2e-a29591b93aca"
      },
      "execution_count": 5,
      "outputs": [
        {
          "output_type": "stream",
          "name": "stdout",
          "text": [
            "['No' 'Yes' 'No' 'No' 'Yes' 'Yes' 'No' 'Yes' 'No' 'Yes']\n"
          ]
        }
      ]
    },
    {
      "cell_type": "code",
      "source": [
        "from sklearn.impute import SimpleImputer\n",
        "imputer = SimpleImputer(missing_values=np.nan, strategy='mean')\n",
        "imputer.fit(x[:, 2:4])\n",
        "x[:, 1:3] = imputer.transform(x[:, 2:4])"
      ],
      "metadata": {
        "id": "j-NiIwd2ogzZ"
      },
      "execution_count": 6,
      "outputs": []
    },
    {
      "cell_type": "code",
      "source": [
        "print (x)"
      ],
      "metadata": {
        "colab": {
          "base_uri": "https://localhost:8080/"
        },
        "id": "Z84-8C2sroqo",
        "outputId": "ce40bb87-930d-4fe6-cd19-27ef76e97101"
      },
      "execution_count": 7,
      "outputs": [
        {
          "output_type": "stream",
          "name": "stdout",
          "text": [
            "[['France' 44.0 72000.0 72000.0]\n",
            " ['Spain' 27.0 48000.0 48000.0]\n",
            " ['Germany' 30.0 54000.0 54000.0]\n",
            " ['Spain' 38.0 61000.0 61000.0]\n",
            " ['Germany' 40.0 63777.77777777778 nan]\n",
            " ['France' 35.0 58000.0 58000.0]\n",
            " ['Spain' 38.77777777777778 52000.0 52000.0]\n",
            " ['France' 48.0 79000.0 79000.0]\n",
            " ['Germany' 50.0 83000.0 83000.0]\n",
            " ['France' 37.0 67000.0 67000.0]]\n"
          ]
        }
      ]
    },
    {
      "cell_type": "code",
      "source": [
        "from sklearn.compose import ColumnTransformer\n",
        "from sklearn.preprocessing import OneHotEncoder\n",
        "ct = ColumnTransformer (transformers=[('encorder',OneHotEncoder(), [0])], remainder='passthrough')\n",
        "x = np.array(ct.fit_transform(x))"
      ],
      "metadata": {
        "id": "FHndsW8gtu1Y"
      },
      "execution_count": 9,
      "outputs": []
    },
    {
      "cell_type": "code",
      "source": [
        "print (x)"
      ],
      "metadata": {
        "colab": {
          "base_uri": "https://localhost:8080/"
        },
        "id": "zK8wJAkwvtP1",
        "outputId": "591e184b-0a18-45f7-d90c-a2b6443dc5e8"
      },
      "execution_count": 10,
      "outputs": [
        {
          "output_type": "stream",
          "name": "stdout",
          "text": [
            "[[0.0 1.0 0.0 0.0 44.0 72000.0 72000.0]\n",
            " [1.0 0.0 0.0 1.0 27.0 48000.0 48000.0]\n",
            " [1.0 0.0 1.0 0.0 30.0 54000.0 54000.0]\n",
            " [1.0 0.0 0.0 1.0 38.0 61000.0 61000.0]\n",
            " [1.0 0.0 1.0 0.0 40.0 63777.77777777778 nan]\n",
            " [0.0 1.0 0.0 0.0 35.0 58000.0 58000.0]\n",
            " [1.0 0.0 0.0 1.0 38.77777777777778 52000.0 52000.0]\n",
            " [0.0 1.0 0.0 0.0 48.0 79000.0 79000.0]\n",
            " [1.0 0.0 1.0 0.0 50.0 83000.0 83000.0]\n",
            " [0.0 1.0 0.0 0.0 37.0 67000.0 67000.0]]\n"
          ]
        }
      ]
    },
    {
      "cell_type": "code",
      "source": [
        "from sklearn.preprocessing import LabelEncoder\n",
        "le = LabelEncoder()\n",
        "y = le.fit_transform(y)"
      ],
      "metadata": {
        "id": "0L1V2Wdgw_yS"
      },
      "execution_count": 11,
      "outputs": []
    },
    {
      "cell_type": "code",
      "source": [
        "print (y)"
      ],
      "metadata": {
        "colab": {
          "base_uri": "https://localhost:8080/"
        },
        "id": "UKKZstHZxSY7",
        "outputId": "2a00a583-0e1b-475a-f367-3ec4c4ebba9b"
      },
      "execution_count": 12,
      "outputs": [
        {
          "output_type": "stream",
          "name": "stdout",
          "text": [
            "[0 1 0 0 1 1 0 1 0 1]\n"
          ]
        }
      ]
    },
    {
      "cell_type": "code",
      "source": [
        "from sklearn.model_selection import train_test_split\n",
        "x_train , x_test , y_train , y_test = train_test_split(x, y, test_size=0.2, random_state=1)"
      ],
      "metadata": {
        "id": "8BnBNuvSoatw"
      },
      "execution_count": 13,
      "outputs": []
    },
    {
      "cell_type": "code",
      "source": [
        "print (x_train)"
      ],
      "metadata": {
        "colab": {
          "base_uri": "https://localhost:8080/"
        },
        "id": "yZM0VhS5o_zc",
        "outputId": "cbb8c6f8-00ef-498d-b0b2-8b434a3657e0"
      },
      "execution_count": null,
      "outputs": [
        {
          "output_type": "stream",
          "name": "stdout",
          "text": [
            "[[0.0 0.0 1.0 38.77777777777778 52000.0]\n",
            " [0.0 1.0 0.0 40.0 63777.77777777778]\n",
            " [1.0 0.0 0.0 44.0 72000.0]\n",
            " [0.0 0.0 1.0 38.0 61000.0]\n",
            " [0.0 0.0 1.0 27.0 48000.0]\n",
            " [1.0 0.0 0.0 48.0 79000.0]\n",
            " [0.0 1.0 0.0 50.0 83000.0]\n",
            " [1.0 0.0 0.0 35.0 58000.0]]\n"
          ]
        }
      ]
    }
  ]
}